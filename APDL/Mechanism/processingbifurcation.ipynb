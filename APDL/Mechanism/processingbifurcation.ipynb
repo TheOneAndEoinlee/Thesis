{
 "cells": [
  {
   "cell_type": "code",
   "execution_count": 7,
   "metadata": {},
   "outputs": [
    {
     "data": {
      "text/latex": [
       "$\\displaystyle a_{1} - \\operatorname{acos}{\\left(- \\frac{Dui}{L_{1}} + \\cos{\\left(a_{1} \\right)} \\right)}$"
      ],
      "text/plain": [
       "a1 - acos(-Dui/L1 + cos(a1))"
      ]
     },
     "execution_count": 7,
     "metadata": {},
     "output_type": "execute_result"
    }
   ],
   "source": [
    "# import sympy as sm\n",
    "\n",
    "# # Define symbolic variables\n",
    "# a1, theta1, L1 = sm.symbols('a1 theta1 L1')\n",
    "# Du1, Dv1 = sm.symbols('Dui Dvi')\n",
    "# Du0, Dv0 = sm.symbols('Du0 Dv0')\n",
    "\n",
    "# eq1 = L1*(sm.cos(a1)-sm.cos(theta1-a1))-Du1 \n",
    "# eq2 = L1*(sm.sin(a1)+sm.sin(theta1-a1))-Dv1\n",
    "\n",
    "# sm.solve(eq1,theta1)[0]\n",
    "\n",
    "# sm.solve\n",
    "\n",
    "\n",
    "\n"
   ]
  },
  {
   "cell_type": "code",
   "execution_count": 5,
   "metadata": {},
   "outputs": [
    {
     "name": "stdout",
     "output_type": "stream",
     "text": [
      "Dv0 = 9.97 mm\n"
     ]
    }
   ],
   "source": [
    "import numpy as np\n",
    "a1 = 2*np.pi/180\n",
    "L1 = 86e-3\n",
    "Du1 = 32e-3\n",
    "\n",
    "Dv0  = 2*L1*(np.cos(a1)-np.cos(np.arcsin(Du1/L1-np.sin(a1))))\n",
    "print(f\"Dv0 = {Dv0*1e3:.2f} mm\")\n"
   ]
  },
  {
   "cell_type": "code",
   "execution_count": 3,
   "metadata": {},
   "outputs": [
    {
     "name": "stdout",
     "output_type": "stream",
     "text": [
      "Lmin = 25.65 mm\n"
     ]
    }
   ],
   "source": [
    "t = 0.4e-3\n",
    "E = 2.2e9\n",
    "smax = 60e6\n",
    "Lmin = np.sqrt(3*Dv0*E*t/(smax))\n",
    "print(f\"Lmin = {Lmin*1e3:.2f} mm\")\n"
   ]
  },
  {
   "cell_type": "code",
   "execution_count": 4,
   "metadata": {},
   "outputs": [
    {
     "name": "stdout",
     "output_type": "stream",
     "text": [
      "Du2 = 4.47 mm\n"
     ]
    }
   ],
   "source": [
    "#calculating the movement of the point on the beam that is connected to the signal routing element\n",
    "#the point is at a distance of L2 from the rotation axis\n",
    "\n",
    "L2 = 12e-3\n",
    "\n",
    "#by similar triangles\n",
    "Du2 = Du1*L2/L1\n",
    "print(f\"Du2 = {Du2*1e3:.2f} mm\")"
   ]
  },
  {
   "cell_type": "code",
   "execution_count": 6,
   "metadata": {},
   "outputs": [
    {
     "name": "stdout",
     "output_type": "stream",
     "text": [
      "Lmin = 7.01 mm\n",
      "Du2/N = 0.74 mm\n"
     ]
    }
   ],
   "source": [
    "N = 6\n",
    "\n",
    "\n",
    "Lmin = np.sqrt(3*Du2*E*t/(smax)/N)\n",
    "print(f\"Lmin = {Lmin*1e3:.2f} mm\")\n",
    "print(f\"Du2/N = {Du2/N*1e3:.2f} mm\")"
   ]
  }
 ],
 "metadata": {
  "kernelspec": {
   "display_name": "Python 3",
   "language": "python",
   "name": "python3"
  },
  "language_info": {
   "codemirror_mode": {
    "name": "ipython",
    "version": 3
   },
   "file_extension": ".py",
   "mimetype": "text/x-python",
   "name": "python",
   "nbconvert_exporter": "python",
   "pygments_lexer": "ipython3",
   "version": "3.10.6"
  },
  "orig_nbformat": 4
 },
 "nbformat": 4,
 "nbformat_minor": 2
}
