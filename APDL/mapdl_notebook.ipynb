{
 "cells": [
  {
   "cell_type": "code",
   "execution_count": null,
   "metadata": {},
   "outputs": [],
   "source": [
    "import numpy as np\n",
    "from ansys.mapdl.core import launch_mapdl\n",
    "from apdl_tests import * "
   ]
  },
  {
   "cell_type": "code",
   "execution_count": 2,
   "metadata": {},
   "outputs": [
    {
     "name": "stdout",
     "output_type": "stream",
     "text": [
      "Product:             Ansys Mechanical Enterprise Academic Research\n",
      "MAPDL Version:       21.2\n",
      "ansys.mapdl Version: 0.64.1\n",
      "\n"
     ]
    },
    {
     "data": {
      "text/plain": [
       "*** ANSYS - ENGINEERING ANALYSIS SYSTEM  RELEASE 2021 R2          21.2     ***\n",
       " DISTRIBUTED Ansys Mechanical Enterprise Academic Research     \n",
       "\n",
       " 00000000  VERSION=WINDOWS x64   11:50:11  APR 10, 2023 CP=      0.172\n",
       "\n",
       "                                                                               \n",
       "\n",
       "\n",
       "\n",
       "          ***** ANSYS ANALYSIS DEFINITION (PREP7) *****"
      ]
     },
     "execution_count": 2,
     "metadata": {},
     "output_type": "execute_result"
    }
   ],
   "source": [
    "mapdl = launch_mapdl()\n",
    "mapdl.clear()\n",
    "print(mapdl)\n",
    "mapdl.prep7()"
   ]
  },
  {
   "cell_type": "code",
   "execution_count": 5,
   "metadata": {},
   "outputs": [],
   "source": [
    "central_thickness = 0.5\n",
    "flexure_thickness = 0.1\n",
    "flexure_length = 2\n",
    "\n",
    "# Create first mechanism\n",
    "first_mechanism_keypoints = create_mechanism(mapdl, central_thickness, flexure_thickness, flexure_length)"
   ]
  },
  {
   "cell_type": "code",
   "execution_count": null,
   "metadata": {},
   "outputs": [
    {
     "data": {
      "text/plain": [
       "DEFINE AREA BY LIST OF LINES\n",
       "      LINE LIST =     1    2    3    4\n",
       "      (TRAVERSED IN SAME DIRECTION AS LINE     1)\n",
       "\n",
       "     AREA NUMBER =      1"
      ]
     },
     "execution_count": 7,
     "metadata": {},
     "output_type": "execute_result"
    }
   ],
   "source": []
  },
  {
   "cell_type": "code",
   "execution_count": null,
   "metadata": {},
   "outputs": [
    {
     "data": {
      "text/plain": [
       "ANSYS Mesh\n",
       "  Number of Nodes:              0\n",
       "  Number of Elements:           0\n",
       "  Number of Element Types:      0\n",
       "  Number of Node Components:    0\n",
       "  Number of Element Components: 0"
      ]
     },
     "execution_count": 8,
     "metadata": {},
     "output_type": "execute_result"
    }
   ],
   "source": []
  }
 ],
 "metadata": {
  "kernelspec": {
   "display_name": "Python 3",
   "language": "python",
   "name": "python3"
  },
  "language_info": {
   "codemirror_mode": {
    "name": "ipython",
    "version": 3
   },
   "file_extension": ".py",
   "mimetype": "text/x-python",
   "name": "python",
   "nbconvert_exporter": "python",
   "pygments_lexer": "ipython3",
   "version": "3.10.6"
  },
  "orig_nbformat": 4
 },
 "nbformat": 4,
 "nbformat_minor": 2
}
