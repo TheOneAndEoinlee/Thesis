{
 "cells": [
  {
   "cell_type": "code",
   "execution_count": 1,
   "metadata": {},
   "outputs": [],
   "source": [
    "import numpy as np\n",
    "from ansys.mapdl.core import launch_mapdl\n",
    "from apdl_tests import * \n",
    "from basic_beam import *\n",
    "import os"
   ]
  },
  {
   "cell_type": "code",
   "execution_count": 2,
   "metadata": {},
   "outputs": [],
   "source": [
    "# Initialize the MAPDL session\n",
    "path = os.getcwd()\n",
    "jname = 'basic_beam'\n",
    "mapdl = launch_mapdl(run_location=path, jobname=jname, override=True)\n",
    "\n",
    "mapdl.finish()\n",
    "mapdl.clear()"
   ]
  },
  {
   "cell_type": "code",
   "execution_count": 3,
   "metadata": {},
   "outputs": [
    {
     "data": {
      "text/plain": [
       "MATERIAL          1     PRXY =  0.3000000"
      ]
     },
     "execution_count": 3,
     "metadata": {},
     "output_type": "execute_result"
    }
   ],
   "source": [
    "\n",
    "\n",
    "# Define parameters\n",
    "beam_length = 1e-3\n",
    "flexure_length = 0.1e-3\n",
    "beam_thickness = 1e-4\n",
    "flexure_thickness = 0.2e-4\n",
    "beam_depth = 1e-4\n",
    "\n",
    "# Define material properties and element type\n",
    "mapdl.prep7()\n",
    "mapdl.et(1, \"BEAM188\")\n",
    "mapdl.mp(\"EX\", 1, 200e9)  # Young's modulus\n",
    "mapdl.mp(\"PRXY\", 1, 0.3)  # Poisson's ratio\n",
    "\n"
   ]
  },
  {
   "cell_type": "code",
   "execution_count": 4,
   "metadata": {},
   "outputs": [],
   "source": [
    "\n",
    "\n",
    "link1 = generate_flexure_keypoints(mapdl, flexure_length, beam_length, np.pi/8)\n",
    "#get offset from the first keypoint in the link\n",
    "k2 = np.array([0, 1e-4, 0])\n",
    "k2 = mapdl.k(\"\", *k2)\n",
    "link2  = generate_flexure_keypoints(mapdl, flexure_length, beam_length, np.pi/8, k2)\n",
    "\n",
    "lines = generate_flexure_lines(mapdl, link1)\n",
    "lines2 = generate_flexure_lines(mapdl, link2)\n",
    "\n"
   ]
  },
  {
   "cell_type": "code",
   "execution_count": 5,
   "metadata": {},
   "outputs": [
    {
     "data": {
      "text/plain": [
       "array([[0.        , 0.        , 0.        ],\n",
       "       [0.0001    , 0.        , 0.        ],\n",
       "       [0.00102388, 0.00038268, 0.        ],\n",
       "       [0.00112388, 0.00038268, 0.        ],\n",
       "       [0.        , 0.0001    , 0.        ],\n",
       "       [0.0001    , 0.0001    , 0.        ],\n",
       "       [0.00102388, 0.00048268, 0.        ],\n",
       "       [0.00112388, 0.00048268, 0.        ]])"
      ]
     },
     "execution_count": 5,
     "metadata": {},
     "output_type": "execute_result"
    }
   ],
   "source": [
    "mapdl.geometry.keypoints"
   ]
  },
  {
   "cell_type": "code",
   "execution_count": 6,
   "metadata": {},
   "outputs": [
    {
     "data": {
      "application/vnd.jupyter.widget-view+json": {
       "model_id": "c0222a3c9e0849708f61e5541aebbeb8",
       "version_major": 2,
       "version_minor": 0
      },
      "text/plain": [
       "Widget(value=\"<iframe src='http://localhost:57810/index.html?ui=P_0x18014113b20_0&reconnect=auto' style='width…"
      ]
     },
     "metadata": {},
     "output_type": "display_data"
    }
   ],
   "source": [
    "#plot the keypoints\n",
    "mapdl.lplot()\n"
   ]
  },
  {
   "cell_type": "code",
   "execution_count": null,
   "metadata": {},
   "outputs": [],
   "source": [
    "\n",
    "\n"
   ]
  },
  {
   "cell_type": "code",
   "execution_count": null,
   "metadata": {},
   "outputs": [],
   "source": []
  },
  {
   "cell_type": "code",
   "execution_count": 7,
   "metadata": {},
   "outputs": [],
   "source": [
    "\n",
    "# Exit the MAPDL session\n",
    "mapdl.finish()\n",
    "mapdl.exit()"
   ]
  }
 ],
 "metadata": {
  "kernelspec": {
   "display_name": "Python 3",
   "language": "python",
   "name": "python3"
  },
  "language_info": {
   "codemirror_mode": {
    "name": "ipython",
    "version": 3
   },
   "file_extension": ".py",
   "mimetype": "text/x-python",
   "name": "python",
   "nbconvert_exporter": "python",
   "pygments_lexer": "ipython3",
   "version": "3.10.6"
  },
  "orig_nbformat": 4
 },
 "nbformat": 4,
 "nbformat_minor": 2
}
