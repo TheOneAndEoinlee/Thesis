{
 "cells": [
  {
   "cell_type": "code",
   "execution_count": 21,
   "metadata": {},
   "outputs": [
    {
     "data": {
      "image/png": "[encoded data removed]",
      "text/latex": [
       "$\\displaystyle - 2 l + 2 \\sqrt{l^{2} + 1}$"
      ],
      "text/plain": [
       "            ________\n",
       "           ╱  2     \n",
       "-2⋅l + 2⋅╲╱  l  + 1 "
      ]
     },
     "execution_count": 21,
     "metadata": {},
     "output_type": "execute_result"
    }
   ],
   "source": [
    "import sympy as sm\n",
    "\n",
    "#turn on pretty printing\n",
    "sm.init_printing()\n",
    "\n",
    "# Define the symbols\n",
    "l = sm.symbols('l')\n",
    "\n",
    "y = 2*(sm.sqrt(l**2 + 1)-l)\n",
    "\n",
    "# Print the result\n",
    "sm.simplify(y)"
   ]
  },
  {
   "cell_type": "code",
   "execution_count": 22,
   "metadata": {},
   "outputs": [],
   "source": [
    "import chebpy as cp\n",
    "import numpy as np\n",
    "\n",
    "\n",
    "\n",
    "d1 = cp.chebfun('d', [0, 1])\n",
    "\n",
    "l1=1.4\n",
    "l2=0.4\n",
    "h1=0.5\n",
    "h2=0.1\n",
    "k_theta=1\n",
    "k_phi=1\n",
    "k_L=6000\n",
    "\n",
    "\n",
    "L1 = np.sqrt(l1**2 + h1**2)\n",
    "th0 = np.arctan(h1/l1)\n",
    "th = np.arctan((h1-d1)/l1)\n",
    "\n",
    "d2 = 2*(np.sqrt(l1**2+h1**2-(h1-d1)**2)-l1)\n",
    "ph0 = np.arctan(h2/l2)\n",
    "ph = np.arctan((h2-d2)/l2)\n",
    "\n",
    "d3 = np.sqrt(l2**2+h2**2-(h2-d2)**2)-l2\n",
    "\n",
    "L2 = np.sqrt(l2**2+h2**2)\n",
    "\n",
    "PE1 = 1/2*k_theta*(th0-th)**2\n",
    "PE2 = 1/2*k_phi*(ph0-ph)**2\n",
    "PE3 = 1/2*k_L*(d3)**2\n",
    "\n",
    "PE = 8*PE1+8*PE2+2*PE3\n",
    "\n",
    "\n"
   ]
  },
  {
   "cell_type": "code",
   "execution_count": 29,
   "metadata": {},
   "outputs": [
    {
     "data": {
      "application/vnd.jupyter.widget-view+json": {
       "model_id": "f9e59c5862f44f2ca120ae0abf2cf6d5",
       "version_major": 2,
       "version_minor": 0
      },
      "text/plain": [
       "VBox(children=(HBox(children=(VBox(children=(FloatSlider(value=1.4, description='l1:', max=2.8, min=0.7), Floa…"
      ]
     },
     "metadata": {},
     "output_type": "display_data"
    }
   ],
   "source": [
    "import chebpy as cp\n",
    "import numpy as np\n",
    "import matplotlib.pyplot as plt\n",
    "import ipywidgets as widgets\n",
    "from IPython.display import display\n",
    "\n",
    "\n",
    "\n",
    "\n",
    "def plot_chebpy(l1, l2,alpha, k_theta, k_phi, k_L, d):\n",
    "\n",
    "    d1 = cp.chebfun('d', [0, 1])\n",
    "    h1 = 0.5 #fixed parameter\n",
    "\n",
    "    L1 = np.sqrt(l1**2 + h1**2)\n",
    "    th0 = np.arctan(h1/l1)\n",
    "    th = np.arctan((h1-d1)/l1)\n",
    "    th_val = th(d)\n",
    "\n",
    "    h2 = alpha*np.sqrt(l1**2+h1**2)-l1 #fixed parameter\n",
    "    d2 = 2*(np.sqrt(l1**2+h1**2-(h1-d1)**2)-l1)\n",
    "    ph0 = np.arctan(h2/l2)\n",
    "    ph = np.arctan((h2-d2)/l2)\n",
    "\n",
    "    d3 = np.sqrt(l2**2+h2**2-(h2-d2)**2)-l2\n",
    "    d3_val = d3(d)\n",
    "\n",
    "    L2 = np.sqrt(l2**2+h2**2)\n",
    "\n",
    "    PE1 = 1/2*k_theta*(th0-th)**2\n",
    "    PE2 = 1/2*k_phi*(ph0-ph)**2\n",
    "    PE3 = 1/2*k_L*(d3)**2\n",
    "\n",
    "    PE = 8*PE1+8*PE2+2*PE3\n",
    "\n",
    "    F = PE.diff()\n",
    "    r = F.roots()\n",
    "    dF = F.diff()\n",
    "    extrema = dF.roots()\n",
    "\n",
    "    # Mechanism plot\n",
    "    c = np.cos(th_val)\n",
    "    xs = [0, L1*c, 2*L1*c, 2*l1+h2, 2*L1*c, 2*l1+h2]\n",
    "    ys = [0, h1-d, 0, l2+d3_val, 0, -l2-d3_val]\n",
    "\n",
    "\n",
    "\n",
    "    fig, (ax1, ax2) = plt.subplots(2, 1, figsize=(6, 6))\n",
    "    plt.subplots_adjust(hspace=0)\n",
    "\n",
    "    # First subplot\n",
    "    F.plot(ax=ax1)\n",
    "    ax1.plot(r, F(r), '.r', markersize=10)\n",
    "    ax1.plot(extrema, F(extrema), '.k', markersize=10)\n",
    "    ax1.axvline(d, color='g', linestyle='--')\n",
    "\n",
    "    ax1.set_title('Chebpy Plot')\n",
    "\n",
    "    # Second subplot\n",
    "    ax2.plot(xs, ys, '-o')\n",
    "    ax2.set_aspect('equal', 'box')\n",
    "    ax2.set_title('Mechanism')\n",
    "    plt.show()\n",
    "\n",
    "    \n",
    "\n",
    "# Define slider widgets for parameters\n",
    "# ...\n",
    "l1_slider = widgets.FloatSlider(min=0.7, max=2.8, step=0.1, value=1.4, description='l1:')\n",
    "l2_slider = widgets.FloatSlider(min=0.1, max=1, step=0.1, value=0.4, description='l2:')\n",
    "alpha_slider = widgets.FloatSlider(min=0.8, max=1.4, step=0.1, value=1.2, description='alpha:')\n",
    "k_theta_slider = widgets.FloatSlider(min=0.1, max=10, step=0.1, value=1, description='k_theta:')\n",
    "k_phi_slider = widgets.FloatSlider(min=0.1, max=10, step=0.1, value=1, description='k_phi:')\n",
    "k_L_slider = widgets.FloatSlider(min=0.1, max=10000, step=0.1, value=6000, description='k_L:')\n",
    "d_slider = widgets.FloatSlider(min=0, max=1, step=0.01, value=0, description='d:')\n",
    "\n",
    "# Create an interactive plot with the sliders\n",
    "out = widgets.interactive_output(plot_chebpy, {\n",
    "    'l1': l1_slider,\n",
    "    'l2': l2_slider,\n",
    "    'alpha': alpha_slider,\n",
    "    'k_theta': k_theta_slider,\n",
    "    'k_phi': k_phi_slider,\n",
    "    'k_L': k_L_slider,\n",
    "    'd': d_slider\n",
    "})\n",
    "\n",
    "\n",
    "\n",
    "slider_box1 = widgets.VBox([l1_slider, l2_slider, alpha_slider])\n",
    "slider_box2 = widgets.VBox([k_theta_slider, k_phi_slider, k_L_slider, d_slider])\n",
    "slider_layout = widgets.HBox([slider_box1, slider_box2])\n",
    "\n",
    "# Display the custom layout and the output of the interactive plot using widgets.VBox\n",
    "display(widgets.VBox([slider_layout, out]))\n",
    "\n",
    "\n",
    "\n"
   ]
  },
  {
   "cell_type": "code",
   "execution_count": 30,
   "metadata": {},
   "outputs": [
    {
     "ename": "TypeError",
     "evalue": "'>=' not supported between instances of 'Chebfun' and 'int'",
     "output_type": "error",
     "traceback": [
      "\u001b[1;31m---------------------------------------------------------------------------\u001b[0m",
      "\u001b[1;31mTypeError\u001b[0m                                 Traceback (most recent call last)",
      "Cell \u001b[1;32mIn[30], line 7\u001b[0m\n\u001b[0;32m      4\u001b[0m k2_compression \u001b[39m=\u001b[39m \u001b[39m400\u001b[39m\n\u001b[0;32m      6\u001b[0m \u001b[39m# Assuming the resting position of the springs is at d = 0\u001b[39;00m\n\u001b[1;32m----> 7\u001b[0m PE_spring1 \u001b[39m=\u001b[39m \u001b[39m0.5\u001b[39m \u001b[39m*\u001b[39m np\u001b[39m.\u001b[39mwhere(d1 \u001b[39m>\u001b[39;49m\u001b[39m=\u001b[39;49m \u001b[39m0\u001b[39;49m, k1_extension \u001b[39m*\u001b[39m d1\u001b[39m*\u001b[39m\u001b[39m*\u001b[39m\u001b[39m2\u001b[39m, k1_compression \u001b[39m*\u001b[39m d1\u001b[39m*\u001b[39m\u001b[39m*\u001b[39m\u001b[39m2\u001b[39m)\n\u001b[0;32m      8\u001b[0m PE_spring2 \u001b[39m=\u001b[39m \u001b[39m0.5\u001b[39m \u001b[39m*\u001b[39m np\u001b[39m.\u001b[39mwhere(d1 \u001b[39m>\u001b[39m\u001b[39m=\u001b[39m \u001b[39m0\u001b[39m, k2_extension \u001b[39m*\u001b[39m d1\u001b[39m*\u001b[39m\u001b[39m*\u001b[39m\u001b[39m2\u001b[39m, k2_compression \u001b[39m*\u001b[39m d1\u001b[39m*\u001b[39m\u001b[39m*\u001b[39m\u001b[39m2\u001b[39m)\n\u001b[0;32m     10\u001b[0m PE_total \u001b[39m=\u001b[39m PE \u001b[39m+\u001b[39m PE_spring1 \u001b[39m+\u001b[39m PE_spring2\n",
      "\u001b[1;31mTypeError\u001b[0m: '>=' not supported between instances of 'Chebfun' and 'int'"
     ]
    }
   ],
   "source": [
    "k1_extension = 1000\n",
    "k1_compression = 500\n",
    "k2_extension = 800\n",
    "k2_compression = 400\n",
    "\n",
    "# Assuming the resting position of the springs is at d = 0\n",
    "PE_spring1 = 0.5 * np.where(d1 >= 0, k1_extension * d1**2, k1_compression * d1**2)\n",
    "PE_spring2 = 0.5 * np.where(d1 >= 0, k2_extension * d1**2, k2_compression * d1**2)\n",
    "\n",
    "PE_total = PE + PE_spring1 + PE_spring2\n",
    "\n",
    "F = PE_total.diff()\n",
    "#plot the function"
   ]
  }
 ],
 "metadata": {
  "kernelspec": {
   "display_name": "Python 3",
   "language": "python",
   "name": "python3"
  },
  "language_info": {
   "codemirror_mode": {
    "name": "ipython",
    "version": 3
   },
   "file_extension": ".py",
   "mimetype": "text/x-python",
   "name": "python",
   "nbconvert_exporter": "python",
   "pygments_lexer": "ipython3",
   "version": "3.10.6"
  },
  "orig_nbformat": 4
 },
 "nbformat": 4,
 "nbformat_minor": 2
}
