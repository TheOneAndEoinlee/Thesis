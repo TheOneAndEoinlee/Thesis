{
 "cells": [
  {
   "cell_type": "code",
   "execution_count": 95,
   "metadata": {},
   "outputs": [],
   "source": [
    "import sympy as sm\n",
    "\n",
    "Fs = 4.77 #Snapping force\n",
    "Fw = -4.97 #return force\n",
    "zb = -6.9e-3  #bistable displacement\n",
    "\n",
    "zw = -5.83e-3 #critical return displacement\n",
    "zs = -1.55-3  #critical snap displacement\n",
    "\n",
    "L1 = 41e-3 # length of the long link\n",
    "Lr1 = 35e-3 # length of the reinf long link\n",
    "l1 = L1 - Lr1 # length of the long link flexure\n",
    "\n",
    "E = 2.2e9 # Young's modulus of the material\n",
    "b = 6e-3 # width of the flexure"
   ]
  },
  {
   "cell_type": "code",
   "execution_count": 96,
   "metadata": {},
   "outputs": [
    {
     "data": {
      "text/latex": [
       "$\\displaystyle 23.6727497846457$"
      ],
      "text/plain": [
       "23.6727497846457"
      ]
     },
     "execution_count": 96,
     "metadata": {},
     "output_type": "execute_result"
    }
   ],
   "source": [
    "a1 = sm.acos(1+zb/2/L1)\n",
    "sm.deg(a1).evalf()"
   ]
  },
  {
   "cell_type": "code",
   "execution_count": 97,
   "metadata": {},
   "outputs": [
    {
     "data": {
      "text/latex": [
       "$\\displaystyle 14.4066712266251$"
      ],
      "text/plain": [
       "14.4066712266251"
      ]
     },
     "execution_count": 97,
     "metadata": {},
     "output_type": "execute_result"
    }
   ],
   "source": [
    "th_1 = a1 - sm.acos(sm.cos(a1)-zw/(2*L1))\n",
    "\n",
    "th_1\n",
    "sm.deg(th_1).evalf()\n"
   ]
  },
  {
   "cell_type": "code",
   "execution_count": 98,
   "metadata": {},
   "outputs": [
    {
     "data": {
      "text/latex": [
       "$\\displaystyle 0.0326225425652708$"
      ],
      "text/plain": [
       "0.0326225425652708"
      ]
     },
     "execution_count": 98,
     "metadata": {},
     "output_type": "execute_result"
    }
   ],
   "source": [
    "Kw = Fw*L1*sm.sin(th_1-a1)/4/th_1\n",
    "Kw"
   ]
  },
  {
   "cell_type": "code",
   "execution_count": 99,
   "metadata": {},
   "outputs": [
    {
     "data": {
      "text/latex": [
       "$\\displaystyle 23.6727497846457 + 270.757085377158 i$"
      ],
      "text/plain": [
       "23.6727497846457 + 270.757085377158*I"
      ]
     },
     "execution_count": 99,
     "metadata": {},
     "output_type": "execute_result"
    }
   ],
   "source": [
    "\n",
    "\n",
    "th_2 = a1 + sm.acos(sm.cos(a1)-zs/(2*L1))\n",
    "th_2\n",
    "sm.deg(th_2).evalf()"
   ]
  },
  {
   "cell_type": "code",
   "execution_count": 68,
   "metadata": {},
   "outputs": [
    {
     "data": {
      "text/latex": [
       "$\\displaystyle 23.4082346725397$"
      ],
      "text/plain": [
       "23.4082346725397"
      ]
     },
     "execution_count": 68,
     "metadata": {},
     "output_type": "execute_result"
    }
   ],
   "source": [
    "Ks = Fs*L1*sm.sin(th_2-a1)/4/th_2\n",
    "Ks"
   ]
  },
  {
   "cell_type": "code",
   "execution_count": 69,
   "metadata": {},
   "outputs": [
    {
     "data": {
      "text/latex": [
       "$\\displaystyle 23.4082346725397$"
      ],
      "text/plain": [
       "23.4082346725397"
      ]
     },
     "execution_count": 69,
     "metadata": {},
     "output_type": "execute_result"
    }
   ],
   "source": [
    "Kmax = min(Kw,Ks)\n",
    "Kmax"
   ]
  },
  {
   "cell_type": "code",
   "execution_count": 72,
   "metadata": {},
   "outputs": [
    {
     "data": {
      "text/latex": [
       "$\\displaystyle 0.334342810206952$"
      ],
      "text/plain": [
       "0.334342810206952"
      ]
     },
     "execution_count": 72,
     "metadata": {},
     "output_type": "execute_result"
    }
   ],
   "source": [
    "#calculating the mimumum stiffness to prevent buckling\n",
    "#kcr = Fsl1/(8pi2 cos a1)\n",
    "\n",
    "Kcr = Fs*l1/(sm.cos(a1)*8*sm.pi**2)\n",
    "Kcr.evalf()"
   ]
  },
  {
   "cell_type": "code",
   "execution_count": null,
   "metadata": {},
   "outputs": [],
   "source": []
  }
 ],
 "metadata": {
  "kernelspec": {
   "display_name": "Python 3",
   "language": "python",
   "name": "python3"
  },
  "language_info": {
   "codemirror_mode": {
    "name": "ipython",
    "version": 3
   },
   "file_extension": ".py",
   "mimetype": "text/x-python",
   "name": "python",
   "nbconvert_exporter": "python",
   "pygments_lexer": "ipython3",
   "version": "3.10.6"
  },
  "orig_nbformat": 4
 },
 "nbformat": 4,
 "nbformat_minor": 2
}
