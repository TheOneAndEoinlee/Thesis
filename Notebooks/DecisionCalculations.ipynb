{
 "cells": [
  {
   "cell_type": "code",
   "execution_count": 1,
   "metadata": {},
   "outputs": [],
   "source": [
    "import sympy as sm\n",
    "\n",
    "Fs = 4.77 #Snapping force\n",
    "Fw = -4.97 #return force\n",
    "zb = -6.9e-3  #bistable displacement\n",
    "\n",
    "zw = -5.83e-3 #critical return displacement\n",
    "zs = -1.55e-3  #critical snap displacement\n",
    "\n",
    "L1 = 41e-3 # length of the long link\n",
    "Lr1 = 35e-3 # length of the reinf long link\n",
    "l1 = L1 - Lr1 # length of the long link flexure\n",
    "\n",
    "E = 2.2e9 # Young's modulus of the material\n",
    "sig_b = 65e6 # yield stress of the material\n",
    "b = 6e-3 # width of the flexure\n"
   ]
  },
  {
   "cell_type": "code",
   "execution_count": 2,
   "metadata": {},
   "outputs": [
    {
     "data": {
      "text/latex": [
       "$\\displaystyle 23.6727497846457$"
      ],
      "text/plain": [
       "23.6727497846457"
      ]
     },
     "execution_count": 2,
     "metadata": {},
     "output_type": "execute_result"
    }
   ],
   "source": [
    "#calculate alpha based on the bistable displacement\n",
    "a1 = sm.acos(1+zb/2/L1)\n",
    "sm.deg(a1).evalf()"
   ]
  },
  {
   "cell_type": "code",
   "execution_count": 3,
   "metadata": {},
   "outputs": [
    {
     "data": {
      "text/latex": [
       "$\\displaystyle 14.4066712266251$"
      ],
      "text/plain": [
       "14.4066712266251"
      ]
     },
     "execution_count": 3,
     "metadata": {},
     "output_type": "execute_result"
    }
   ],
   "source": [
    "#calculate position of end effector at snapping back point to\n",
    "th_1 = a1 - sm.acos(sm.cos(a1)-zw/(2*L1))\n",
    "\n",
    "th_1\n",
    "sm.deg(th_1).evalf()\n"
   ]
  },
  {
   "cell_type": "code",
   "execution_count": 4,
   "metadata": {},
   "outputs": [
    {
     "data": {
      "text/latex": [
       "$\\displaystyle 0.0326225425652708$"
      ],
      "text/plain": [
       "0.0326225425652708"
      ]
     },
     "execution_count": 4,
     "metadata": {},
     "output_type": "execute_result"
    }
   ],
   "source": [
    "#maximum stiffness for tristability (second stable point)\n",
    "Kw = Fw*L1*sm.sin(th_1-a1)/4/th_1\n",
    "Kw"
   ]
  },
  {
   "cell_type": "code",
   "execution_count": 5,
   "metadata": {},
   "outputs": [
    {
     "data": {
      "text/latex": [
       "$\\displaystyle 44.4839732930872$"
      ],
      "text/plain": [
       "44.4839732930872"
      ]
     },
     "execution_count": 5,
     "metadata": {},
     "output_type": "execute_result"
    }
   ],
   "source": [
    "#position of snapback on third stable point\n",
    "\n",
    "th_2 = a1 + sm.acos(sm.cos(a1)-zs/(2*L1))\n",
    "th_2\n",
    "sm.deg(th_2).evalf()\n"
   ]
  },
  {
   "cell_type": "code",
   "execution_count": 6,
   "metadata": {},
   "outputs": [
    {
     "data": {
      "text/latex": [
       "$\\displaystyle 0.0223740385665409$"
      ],
      "text/plain": [
       "0.0223740385665409"
      ]
     },
     "execution_count": 6,
     "metadata": {},
     "output_type": "execute_result"
    }
   ],
   "source": [
    "#maximum stiffness for bistability (third stable point)\n",
    "Ks = Fs*L1*sm.sin(th_2-a1)/4/th_2\n",
    "Ks"
   ]
  },
  {
   "cell_type": "code",
   "execution_count": 7,
   "metadata": {},
   "outputs": [
    {
     "data": {
      "text/latex": [
       "$\\displaystyle 0.0223740385665409$"
      ],
      "text/plain": [
       "0.0223740385665409"
      ]
     },
     "execution_count": 7,
     "metadata": {},
     "output_type": "execute_result"
    }
   ],
   "source": [
    "Kmax = min(Kw,Ks)\n",
    "Kmax\n",
    "#maximum stiffness of the end effector flexures such that the mechanism is tristable"
   ]
  },
  {
   "cell_type": "code",
   "execution_count": 8,
   "metadata": {},
   "outputs": [
    {
     "data": {
      "text/latex": [
       "$\\displaystyle 0.000395779971070546$"
      ],
      "text/plain": [
       "0.000395779971070546"
      ]
     },
     "execution_count": 8,
     "metadata": {},
     "output_type": "execute_result"
    }
   ],
   "source": [
    "#calculating the mimumum stiffness to prevent buckling\n",
    "\n",
    "\n",
    "Kcr = Fs*l1/(sm.cos(a1)*8*sm.pi**2)\n",
    "Kcr.evalf()"
   ]
  },
  {
   "cell_type": "code",
   "execution_count": 9,
   "metadata": {},
   "outputs": [
    {
     "data": {
      "text/latex": [
       "$\\displaystyle 0.00386292725541293$"
      ],
      "text/plain": [
       "0.00386292725541293"
      ]
     },
     "execution_count": 9,
     "metadata": {},
     "output_type": "execute_result"
    }
   ],
   "source": [
    "Fac = 3 #maximium actuation force (N), arbitrary value\n",
    "Kac = (2*Fs*L1*sm.sin(th_2-a1)-Fac*L1*sm.cos(th_2-a1))/8/th_2\n",
    "Kac.evalf()"
   ]
  },
  {
   "cell_type": "code",
   "execution_count": 10,
   "metadata": {},
   "outputs": [
    {
     "data": {
      "text/latex": [
       "$\\displaystyle 0.00386292725541293$"
      ],
      "text/plain": [
       "0.00386292725541293"
      ]
     },
     "execution_count": 10,
     "metadata": {},
     "output_type": "execute_result"
    }
   ],
   "source": [
    "Kmin = max(Kcr,Kac)\n",
    "Kmin"
   ]
  },
  {
   "cell_type": "code",
   "execution_count": 12,
   "metadata": {},
   "outputs": [],
   "source": [
    "hikm = (12*Kmax*l1/E/b)**(1/3)\n",
    "\n",
    "\n",
    "hmin = (12*Kmin*l1/E/b)**(1/3)\n"
   ]
  },
  {
   "cell_type": "code",
   "execution_count": 13,
   "metadata": {},
   "outputs": [
    {
     "data": {
      "text/latex": [
       "$\\displaystyle 0.000429057848703695$"
      ],
      "text/plain": [
       "0.000429057848703695"
      ]
     },
     "execution_count": 13,
     "metadata": {},
     "output_type": "execute_result"
    }
   ],
   "source": [
    "th_max = 2*a1\n",
    "sm.deg(th_max).evalf()\n",
    "\n",
    "his = 2*l1*sig_b/(E*th_max)\n",
    "his.evalf()"
   ]
  },
  {
   "cell_type": "code",
   "execution_count": 14,
   "metadata": {},
   "outputs": [
    {
     "name": "stdout",
     "output_type": "stream",
     "text": [
      "The values of hmin and hmax are 0.276mm and 0.429mm, respectively.\n"
     ]
    }
   ],
   "source": [
    "hmax = min(hikm,his)\n",
    "hmax\n",
    "result = f\"The values of hmin and hmax are {1000*hmin:.3f}mm and {1000*hmax:.3f}mm, respectively.\"\n",
    "print(result)"
   ]
  },
  {
   "cell_type": "code",
   "execution_count": 31,
   "metadata": {},
   "outputs": [
    {
     "data": {
      "text/latex": [
       "$\\displaystyle 32.4033444657836$"
      ],
      "text/plain": [
       "32.4033444657836"
      ]
     },
     "execution_count": 31,
     "metadata": {},
     "output_type": "execute_result"
    }
   ],
   "source": [
    "#Bifurcation calculations\n",
    "L2 = 61e-3\n",
    "a2 = 2*sm.pi/180\n",
    "\n",
    "Dv1 = 33e-3\n",
    "\n",
    "th_3 = lambda Dv1: sm.asin(Dv1/L2-sm.sin(a2))+a2\n",
    "\n",
    "Dv0 = lambda th: 2*L2*(sm.cos(a2)-sm.cos(th))\n",
    "sm.deg(th_3(Dv1)).evalf()"
   ]
  },
  {
   "cell_type": "code",
   "execution_count": 32,
   "metadata": {},
   "outputs": [
    {
     "data": {
      "image/png": "[encoded data removed]",
      "text/plain": [
       "<Figure size 640x480 with 1 Axes>"
      ]
     },
     "metadata": {},
     "output_type": "display_data"
    }
   ],
   "source": [
    "import os \n",
    "import numpy as np\n",
    "folder = os.getcwd()\n",
    "folder = os.path.dirname(folder)\n",
    "folder = os.path.join(folder, \"APDL\\Mechanism\")\n",
    "file = \"result3.txt\"\n",
    "\n",
    "file = os.path.join(folder, file)\n",
    "keys = [\"w\", \"t1\", \"t2\", \"t3\", \"BL1\", \"BL2\", \"h\", \"sl\", \"st\", \"Lr1\", \"L1\", \"beta1\", \"beta2\", \"beta3\", \"alpha\"]\n",
    "\n",
    "header = np.loadtxt(file, delimiter=\",\", max_rows=1)\n",
    "data = np.loadtxt(file, delimiter=\",\", skiprows=1)\n",
    "params = {k:v for k,v in zip(keys, header)}\n",
    "\n",
    "from scipy.signal import find_peaks\n",
    "\n",
    "peaks= find_peaks(data[:,2], height=0)\n",
    "\n",
    "\n",
    "zero_crossings=np.where(np.diff(np.sign(data[:,2]), n=1))[0]\n",
    "\n",
    "troughs = find_peaks(-data[:,2], height=0)\n",
    "\n",
    "\n",
    "import matplotlib.pyplot as plt\n",
    "\n",
    "plt.plot(data[:,1], data[:,2])\n",
    "plt.plot(data[peaks[0],1], data[peaks[0],2], \"x\")\n",
    "plt.plot(data[troughs[0],1], data[troughs[0],2], \"o\")\n",
    "plt.plot(data[zero_crossings[0],1], data[zero_crossings[0],2], \"o\")\n",
    "plt.show()\n"
   ]
  },
  {
   "cell_type": "code",
   "execution_count": 33,
   "metadata": {},
   "outputs": [
    {
     "data": {
      "text/latex": [
       "$\\displaystyle 0.0338879693415646$"
      ],
      "text/plain": [
       "0.0338879693415646"
      ]
     },
     "execution_count": 33,
     "metadata": {},
     "output_type": "execute_result"
    }
   ],
   "source": [
    "th_3(data[peaks[0][0],1]).evalf()\n"
   ]
  },
  {
   "cell_type": "code",
   "execution_count": 34,
   "metadata": {},
   "outputs": [
    {
     "data": {
      "text/plain": [
       "array([23, 43, 86, 98], dtype=int64)"
      ]
     },
     "execution_count": 34,
     "metadata": {},
     "output_type": "execute_result"
    }
   ],
   "source": [
    "zero_crossings"
   ]
  },
  {
   "cell_type": "code",
   "execution_count": 35,
   "metadata": {},
   "outputs": [
    {
     "data": {
      "text/latex": [
       "$\\displaystyle 0.017119768456825$"
      ],
      "text/plain": [
       "0.0171197684568250"
      ]
     },
     "execution_count": 35,
     "metadata": {},
     "output_type": "execute_result"
    }
   ],
   "source": [
    "th = th_3(data[zero_crossings[-1],1]).evalf()\n",
    "disp_in = Dv0(th).evalf()\n",
    "disp_in"
   ]
  },
  {
   "cell_type": "code",
   "execution_count": null,
   "metadata": {},
   "outputs": [],
   "source": []
  },
  {
   "cell_type": "code",
   "execution_count": null,
   "metadata": {},
   "outputs": [],
   "source": []
  }
 ],
 "metadata": {
  "kernelspec": {
   "display_name": "Python 3",
   "language": "python",
   "name": "python3"
  },
  "language_info": {
   "codemirror_mode": {
    "name": "ipython",
    "version": 3
   },
   "file_extension": ".py",
   "mimetype": "text/x-python",
   "name": "python",
   "nbconvert_exporter": "python",
   "pygments_lexer": "ipython3",
   "version": "3.10.6"
  },
  "orig_nbformat": 4
 },
 "nbformat": 4,
 "nbformat_minor": 2
}
