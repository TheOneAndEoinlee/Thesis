{
 "cells": [
  {
   "cell_type": "code",
   "execution_count": 1,
   "id": "d62cfc4f",
   "metadata": {},
   "outputs": [],
   "source": [
    "from mpl_toolkits.mplot3d import Axes3D\n",
    "import matplotlib.pyplot as plt\n",
    "import numpy as np\n",
    "from ElementaryCA import*\n"
   ]
  },
  {
   "cell_type": "code",
   "execution_count": 2,
   "id": "5b3dec03",
   "metadata": {},
   "outputs": [
    {
     "name": "stdout",
     "output_type": "stream",
     "text": [
      "Rule:110\n",
      "(0, 0, 0):  0\n",
      "(0, 0, 1):  1\n",
      "(0, 1, 0):  1\n",
      "(0, 1, 1):  1\n",
      "(1, 0, 0):  0\n",
      "(1, 0, 1):  1\n",
      "(1, 1, 0):  1\n",
      "(1, 1, 1):  0\n"
     ]
    }
   ],
   "source": [
    "decimal = 110\n",
    "# Convert decimal to truth table\n",
    "truth_table = decimal_to_truth_table(decimal)\n",
    "# Convert truth table to function dictionary\n",
    "function_dict = truth_table_to_dict(truth_table)\n",
    "# Convert function dictionary to true and false inputs\n",
    "true_inputs, false_inputs = dict_to_lists(function_dict)\n",
    "\n",
    "print(f\"Rule:{decimal}\")\n",
    "for key,value in function_dict.items():\n",
    "    \n",
    "    print(f\"{key}:  {value}\")\n"
   ]
  }
 ],
 "metadata": {
  "kernelspec": {
   "display_name": "Python 3 (ipykernel)",
   "language": "python",
   "name": "python3"
  },
  "language_info": {
   "codemirror_mode": {
    "name": "ipython",
    "version": 3
   },
   "file_extension": ".py",
   "mimetype": "text/x-python",
   "name": "python",
   "nbconvert_exporter": "python",
   "pygments_lexer": "ipython3",
   "version": "3.10.6"
  }
 },
 "nbformat": 4,
 "nbformat_minor": 5
}
