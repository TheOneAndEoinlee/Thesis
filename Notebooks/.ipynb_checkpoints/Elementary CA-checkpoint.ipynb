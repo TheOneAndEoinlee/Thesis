{
 "cells": [
  {
   "cell_type": "code",
   "execution_count": null,
   "id": "2a2b27e5",
   "metadata": {},
   "outputs": [],
   "source": [
    "import matplotlib.pyplot as plt\n",
    "import numpy as np\n",
    "from ElementaryCA import ElementaryCA"
   ]
  },
  {
   "cell_type": "code",
   "execution_count": null,
   "id": "56618cf0",
   "metadata": {},
   "outputs": [],
   "source": [
    "rules = [4,22,32,73,75,86,94,218,110]\n",
    "CAs = []\n",
    "spdim = [3,3]\n",
    "\n",
    "\n",
    "fig = plt.figure(figsize=(10, 10), dpi=300)\n",
    "for i,rule in enumerate(rules):\n",
    "    CA = ElementaryCA(rule)\n",
    "    CA.evolve(width=100,height = 48,init_state='point')\n",
    "    ax = fig.add_subplot(*spdim,i+1)\n",
    "    CA.show(ax=ax)\n",
    "    CAs.append(CA)\n",
    "\n",
    "    \n"
   ]
  },
  {
   "cell_type": "code",
   "execution_count": null,
   "id": "c7c91571",
   "metadata": {},
   "outputs": [],
   "source": [
    "CA = ElementaryCA(110)\n",
    "fig = plt.figure(figsize=(12, 12), dpi=300)\n",
    "ax= fig.add_subplot(111)\n",
    "CA.evolve(width=500,height = 1000,init_state='right')\n",
    "CA.show(ax=ax,showTitle = False)"
   ]
  },
  {
   "cell_type": "code",
   "execution_count": null,
   "id": "fb34f97a",
   "metadata": {},
   "outputs": [],
   "source": [
    "Testing = 1"
   ]
  }
 ],
 "metadata": {
  "kernelspec": {
   "display_name": "Python 3 (ipykernel)",
   "language": "python",
   "name": "python3"
  },
  "language_info": {
   "codemirror_mode": {
    "name": "ipython",
    "version": 3
   },
   "file_extension": ".py",
   "mimetype": "text/x-python",
   "name": "python",
   "nbconvert_exporter": "python",
   "pygments_lexer": "ipython3",
   "version": "3.10.6"
  }
 },
 "nbformat": 4,
 "nbformat_minor": 5
}
