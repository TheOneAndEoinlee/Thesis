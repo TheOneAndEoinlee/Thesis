{
 "cells": [
  {
   "cell_type": "code",
   "execution_count": null,
   "metadata": {},
   "outputs": [],
   "source": [
    "import openpyxl\n",
    "import numpy as np\n",
    "path = \"H:\\My Drive\\eoinlee.bley@ucdconnect.ie 2023-01-05 14 51\\College Docs\\\\00-Thesis\\CAD\\Tristable_ver2.xlsx\"\n",
    "oxl = openpyxl.load_workbook(path)\n",
    "\n",
    "\n",
    "h1s = [10,15,20,25]\n",
    "xl = oxl['Sheet1']\n",
    "headers = tuple(xl.rows)[1][1:10]\n",
    "\n",
    "\n",
    "#extract items betweeen @ signs in header values\n",
    "def extract(s):\n",
    "    return s[s.find('@')+1:s.find('@',s.find('@')+1)]\n",
    "\n",
    "params = [extract(h.value) for h in headers[0:9]]\n",
    "params \n",
    "\n",
    "\n",
    "for h1 in h1s:\n",
    "    config = f\"ConfigH1{h1}\"\n",
    "\n",
    "    geom = evalgeom(lam, repl, h1_scale=h1, t=0.8, kL = 3)\n",
    "    \n",
    "    new_config = [config] + [f\"'={geom[param]}mm\" for param in params]\n",
    "    new_config\n",
    "    xl.append(new_config)\n",
    "\n",
    "\n",
    "oxl.save(path)"
   ]
  }
 ],
 "metadata": {
  "language_info": {
   "name": "python"
  },
  "orig_nbformat": 4
 },
 "nbformat": 4,
 "nbformat_minor": 2
}
